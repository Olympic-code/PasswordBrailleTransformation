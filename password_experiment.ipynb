{
 "cells": [
  {
   "cell_type": "code",
   "execution_count": 5,
   "metadata": {},
   "outputs": [
    {
     "name": "stdout",
     "output_type": "stream",
     "text": [
      "The autoreload extension is already loaded. To reload it, use:\n",
      "  %reload_ext autoreload\n",
      "Nenhuma colisão encontrada.\n",
      "Ataque de força bruta falhou.\n",
      "Resistente a ataques estatísticos.\n"
     ]
    }
   ],
   "source": [
    "%load_ext autoreload\n",
    "%autoreload 2\n",
    "\n",
    "import sys\n",
    "sys.path.append(\"..\")\n",
    "from src.main import transform_password\n",
    "from src.test.evaluation import evaluate_security"
   ]
  },
  {
   "cell_type": "code",
   "execution_count": 4,
   "metadata": {},
   "outputs": [
    {
     "name": "stdout",
     "output_type": "stream",
     "text": [
      "Senha transformada: 177198111778188458187888187879197877179981191989117897711799199959197859188187918117911789111998817118719118129478179478178478189478181878187177178879111199111198178459177457171779178877198999\n",
      "Quantidade de caracteres na senha transformada: 192\n"
     ]
    }
   ],
   "source": [
    "password = \"minha_senha\"\n",
    "secure_password = transform_password(password)\n",
    "print(\"Senha transformada:\", secure_password) \n",
    "\n",
    "quantidade_de_caracteres = len(secure_password)\n",
    "print(\"Quantidade de caracteres na senha transformada:\", quantidade_de_caracteres)"
   ]
  },
  {
   "cell_type": "markdown",
   "metadata": {},
   "source": [
    "### Test of approach"
   ]
  },
  {
   "cell_type": "code",
   "execution_count": 6,
   "metadata": {},
   "outputs": [
    {
     "name": "stdout",
     "output_type": "stream",
     "text": [
      "Nenhuma colisão encontrada.\n",
      "Ataque de força bruta falhou.\n",
      "Resistente a ataques estatísticos.\n"
     ]
    }
   ],
   "source": [
    "password_list = [\"senha1\", \"senha2\", \"senha3\", \"minha_senha_secreta\", \"senha_secreta\"]\n",
    "evaluate_security(password_list)"
   ]
  }
 ],
 "metadata": {
  "kernelspec": {
   "display_name": "base",
   "language": "python",
   "name": "python3"
  },
  "language_info": {
   "codemirror_mode": {
    "name": "ipython",
    "version": 3
   },
   "file_extension": ".py",
   "mimetype": "text/x-python",
   "name": "python",
   "nbconvert_exporter": "python",
   "pygments_lexer": "ipython3",
   "version": "3.11.5"
  }
 },
 "nbformat": 4,
 "nbformat_minor": 2
}
