{
 "cells": [
  {
   "cell_type": "code",
   "execution_count": 1,
   "metadata": {},
   "outputs": [],
   "source": [
    "%load_ext autoreload\n",
    "%autoreload 2\n",
    "\n",
    "import sys\n",
    "sys.path.append(\"..\")\n",
    "from src.main import transform_password"
   ]
  },
  {
   "cell_type": "code",
   "execution_count": 2,
   "metadata": {},
   "outputs": [
    {
     "name": "stdout",
     "output_type": "stream",
     "text": [
      "Senha transformada: 188188111797197458179897198978177977178791181799119978811789198957187758178198719117811989111988819118819118127499199487189478177478171798199197177989111188111197179457198457181798197898187977\n",
      "Quantidade de caracteres na senha transformada: 192\n"
     ]
    }
   ],
   "source": [
    "password = \"minha_senha\"\n",
    "secure_password = transform_password(password)\n",
    "print(\"Senha transformada:\", secure_password) \n",
    "\n",
    "quantidade_de_caracteres = len(secure_password)\n",
    "print(\"Quantidade de caracteres na senha transformada:\", quantidade_de_caracteres)"
   ]
  }
 ],
 "metadata": {
  "kernelspec": {
   "display_name": "base",
   "language": "python",
   "name": "python3"
  },
  "language_info": {
   "codemirror_mode": {
    "name": "ipython",
    "version": 3
   },
   "file_extension": ".py",
   "mimetype": "text/x-python",
   "name": "python",
   "nbconvert_exporter": "python",
   "pygments_lexer": "ipython3",
   "version": "3.11.5"
  }
 },
 "nbformat": 4,
 "nbformat_minor": 2
}
